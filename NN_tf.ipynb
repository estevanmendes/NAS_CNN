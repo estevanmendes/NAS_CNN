{
 "cells": [
  {
   "cell_type": "code",
   "execution_count": 25,
   "metadata": {},
   "outputs": [],
   "source": [
    "import tensorflow as tf\n",
    "import pandas as pd\n",
    "import torch\n",
    "import os\n",
    "import numpy as np\n",
    "import matplotlib.pyplot as plt\n",
    "import datetime\n",
    "os.environ['CUDA_VISIBLE_DEVICES'] = '-1'\n",
    "\n"
   ]
  },
  {
   "cell_type": "code",
   "execution_count": 26,
   "metadata": {},
   "outputs": [],
   "source": [
    "trainning_df=pd.read_csv('trainning_dataset.csv')\n",
    "validation_df=pd.read_csv('validation_dataset.csv')\n",
    "testing_df=pd.read_csv('testing_dataset.csv')"
   ]
  },
  {
   "cell_type": "code",
   "execution_count": 27,
   "metadata": {},
   "outputs": [],
   "source": [
    "from typing import Any\n",
    "\n",
    "\n",
    "class Dataframe2ImageDataset:\n",
    "    @staticmethod\n",
    "    def load_image(filepath):\n",
    "        raw = tf.io.read_file(filepath)        \n",
    "        tensor = tf.io.decode_image(raw)\n",
    "        tensor = tf.cast(tensor, tf.float32) / 255.0\n",
    "        return tensor\n",
    "\n",
    "    def __init__(self,df,path_column,label_column) -> None:\n",
    "        self.paths=df[path_column].values\n",
    "        self.labels=np.eye(2)[df[label_column].values]\n",
    "\n",
    "    def create_dataset(self):\n",
    "        dataset = tf.data.Dataset.from_tensor_slices((self.paths,self.labels))\n",
    "        dataset = dataset.map(lambda filepath, label: (self.load_image(filepath), label))\n",
    "        # self.dataset=dataset\n",
    "        return dataset\n",
    "    \n",
    "\n",
    "\n",
    "# trainning_data=Dataframe2ImageDataset(trainning_df,'path','binary_label_code')\n",
    "# trainning_data.create_dataset()\n",
    "training_dataset=Dataframe2ImageDataset(trainning_df,'path','binary_label_code').create_dataset()\n",
    "validation_dataset=Dataframe2ImageDataset(validation_df,'path','binary_label_code').create_dataset()\n",
    "testing_df_dataset=Dataframe2ImageDataset(testing_df,'path','binary_label_code').create_dataset()\n",
    "\n"
   ]
  },
  {
   "cell_type": "code",
   "execution_count": 28,
   "metadata": {},
   "outputs": [
    {
     "data": {
      "text/plain": [
       "((100, 100, 3), 26238.164, 26859.6)"
      ]
     },
     "execution_count": 28,
     "metadata": {},
     "output_type": "execute_result"
    }
   ],
   "source": [
    "a=iter(training_dataset)\n",
    "next(a)[0].numpy().shape,next(a)[0].numpy().sum(),next(a)[0].numpy().sum()"
   ]
  },
  {
   "cell_type": "code",
   "execution_count": 29,
   "metadata": {},
   "outputs": [
    {
     "data": {
      "text/plain": [
       "Text(0.5, 1.0, '[1. 0.]')"
      ]
     },
     "execution_count": 29,
     "metadata": {},
     "output_type": "execute_result"
    },
    {
     "data": {
      "image/png": "[encoded data removed]",
      "text/plain": [
       "<Figure size 640x480 with 1 Axes>"
      ]
     },
     "metadata": {},
     "output_type": "display_data"
    }
   ],
   "source": [
    "X,Y=next(a)\n",
    "plt.imshow(X.numpy(),cmap='gray')\n",
    "plt.title(f'{Y}')"
   ]
  },
  {
   "cell_type": "code",
   "execution_count": 30,
   "metadata": {},
   "outputs": [],
   "source": [
    "\n",
    "model = tf.keras.Sequential([\n",
    "    tf.keras.layers.Conv2D(filters=16,kernel_size=5,strides=1,padding='valid',activation='relu',input_shape=(100,100,3)),\n",
    "    tf.keras.layers.BatchNormalization(),\n",
    "    tf.keras.layers.MaxPooling2D(pool_size=(2,2)),\n",
    "    tf.keras.layers.Dropout(0.25),\n",
    "    \n",
    "    tf.keras.layers.Conv2D(filters=32,kernel_size=5,strides=1,padding='valid',activation='relu'),\n",
    "    tf.keras.layers.BatchNormalization(),\n",
    "    tf.keras.layers.MaxPooling2D(pool_size=(2,2)),\n",
    "    tf.keras.layers.Dropout(0.25),\n",
    "    \n",
    "    tf.keras.layers.Conv2D(filters=64,kernel_size=3,strides=1,padding='valid',activation='relu'),\n",
    "    tf.keras.layers.BatchNormalization(),\n",
    "    tf.keras.layers.MaxPooling2D(pool_size=(2,2)),\n",
    "    tf.keras.layers.Dropout(0.5),\n",
    "\n",
    "    \n",
    "    tf.keras.layers.Flatten(),\n",
    "    tf.keras.layers.Dense(100, activation='relu'),\n",
    "    tf.keras.layers.Dense(100, activation='relu'),\n",
    "    tf.keras.layers.Dense(2, activation=tf.nn.softmax)])\n",
    "\n"
   ]
  },
  {
   "cell_type": "code",
   "execution_count": 31,
   "metadata": {},
   "outputs": [],
   "source": [
    "np.random.seed(1234)"
   ]
  },
  {
   "cell_type": "code",
   "execution_count": 32,
   "metadata": {},
   "outputs": [],
   "source": [
    "learning_rate=tf.optimizers.schedules.ExponentialDecay(initial_learning_rate=.1,decay_steps=10000.,decay_rate=0.95)\n",
    "opt=tf.optimizers.SGD(learning_rate=learning_rate)\n",
    "model.compile(optimizer=opt, loss=tf.metrics.mse,metrics=[tf.metrics.AUC(name='auc')])\n",
    "# model.summary()"
   ]
  },
  {
   "cell_type": "code",
   "execution_count": 33,
   "metadata": {},
   "outputs": [
    {
     "name": "stdout",
     "output_type": "stream",
     "text": [
      "Epoch 1/20\n",
      "173/173 - 8s - loss: 0.4592 - auc: 0.5305 - val_loss: 0.4953 - val_auc: 0.5040 - 8s/epoch - 48ms/step\n",
      "Epoch 2/20\n",
      "173/173 - 6s - loss: 0.3121 - auc: 0.6712 - val_loss: 0.2466 - val_auc: 0.6758 - 6s/epoch - 34ms/step\n",
      "Epoch 3/20\n",
      "173/173 - 7s - loss: 0.2082 - auc: 0.7608 - val_loss: 0.2183 - val_auc: 0.7153 - 7s/epoch - 41ms/step\n",
      "Epoch 4/20\n",
      "173/173 - 6s - loss: 0.1790 - auc: 0.8109 - val_loss: 0.2201 - val_auc: 0.7164 - 6s/epoch - 37ms/step\n",
      "Epoch 5/20\n",
      "173/173 - 7s - loss: 0.1677 - auc: 0.8335 - val_loss: 0.1937 - val_auc: 0.7932 - 7s/epoch - 41ms/step\n",
      "Epoch 6/20\n",
      "173/173 - 7s - loss: 0.1544 - auc: 0.8581 - val_loss: 0.1695 - val_auc: 0.8289 - 7s/epoch - 40ms/step\n",
      "Epoch 7/20\n",
      "173/173 - 7s - loss: 0.1433 - auc: 0.8768 - val_loss: 0.1738 - val_auc: 0.8370 - 7s/epoch - 42ms/step\n",
      "Epoch 8/20\n",
      "173/173 - 5s - loss: 0.1328 - auc: 0.8926 - val_loss: 0.3226 - val_auc: 0.6561 - 5s/epoch - 28ms/step\n",
      "Epoch 9/20\n",
      "173/173 - 6s - loss: 0.1221 - auc: 0.9081 - val_loss: 0.3284 - val_auc: 0.6567 - 6s/epoch - 34ms/step\n",
      "Epoch 10/20\n",
      "173/173 - 5s - loss: 0.1112 - auc: 0.9221 - val_loss: 0.2126 - val_auc: 0.7982 - 5s/epoch - 30ms/step\n"
     ]
    },
    {
     "data": {
      "text/plain": [
       "<keras.src.callbacks.History at 0x7f940542d460>"
      ]
     },
     "execution_count": 33,
     "metadata": {},
     "output_type": "execute_result"
    }
   ],
   "source": [
    "log_dir = \"logs/fit/\" + datetime.datetime.now().strftime(\"%Y%m%d-%H%M%S\")\n",
    "tensorboard_callback = tf.keras.callbacks.TensorBoard(log_dir=log_dir, histogram_freq=1)\n",
    "callback = tf.keras.callbacks.EarlyStopping(monitor='val_auc', patience=3)\n",
    "model.fit(training_dataset.batch(10),validation_data=validation_dataset.batch(10),epochs=20,verbose=2,callbacks=[callback,tensorboard_callback])"
   ]
  },
  {
   "cell_type": "code",
   "execution_count": 34,
   "metadata": {},
   "outputs": [
    {
     "name": "stdout",
     "output_type": "stream",
     "text": [
      " 3/12 [======>.......................] - ETA: 0s - loss: 0.2247 - auc: 0.7869"
     ]
    },
    {
     "name": "stdout",
     "output_type": "stream",
     "text": [
      "12/12 [==============================] - 1s 64ms/step - loss: 0.2141 - auc: 0.7945\n"
     ]
    },
    {
     "data": {
      "text/plain": [
       "[0.21411164104938507, 0.7944602370262146]"
      ]
     },
     "execution_count": 34,
     "metadata": {},
     "output_type": "execute_result"
    }
   ],
   "source": [
    "model.evaluate(testing_df_dataset.batch(32))"
   ]
  }
 ],
 "metadata": {
  "kernelspec": {
   "display_name": "Python 3",
   "language": "python",
   "name": "python3"
  },
  "language_info": {
   "codemirror_mode": {
    "name": "ipython",
    "version": 3
   },
   "file_extension": ".py",
   "mimetype": "text/x-python",
   "name": "python",
   "nbconvert_exporter": "python",
   "pygments_lexer": "ipython3",
   "version": "3.8.10"
  }
 },
 "nbformat": 4,
 "nbformat_minor": 2
}
