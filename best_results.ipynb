{
 "cells": [
  {
   "cell_type": "code",
   "execution_count": 2,
   "metadata": {},
   "outputs": [
    {
     "ename": "ModuleNotFoundError",
     "evalue": "No module named 'NAS'",
     "output_type": "error",
     "traceback": [
      "\u001b[0;31m---------------------------------------------------------------------------\u001b[0m",
      "\u001b[0;31mModuleNotFoundError\u001b[0m                       Traceback (most recent call last)",
      "\u001b[1;32m/home/estevanmendes/Desktop/PUC_RIO/deep_LEARNING/dados/experimentos/best_results.ipynb Cell 1\u001b[0m line \u001b[0;36m1\n\u001b[0;32m----> <a href='vscode-notebook-cell:/home/estevanmendes/Desktop/PUC_RIO/deep_LEARNING/dados/experimentos/best_results.ipynb#W1sZmlsZQ%3D%3D?line=0'>1</a>\u001b[0m \u001b[39mfrom\u001b[39;00m \u001b[39mNAS\u001b[39;00m \u001b[39mimport\u001b[39;00m \u001b[39m*\u001b[39m\n",
      "\u001b[0;31mModuleNotFoundError\u001b[0m: No module named 'NAS'"
     ]
    }
   ],
   "source": [
    "from NAS import *"
   ]
  },
  {
   "cell_type": "code",
   "execution_count": 1,
   "metadata": {},
   "outputs": [
    {
     "ename": "NameError",
     "evalue": "name 'create_model' is not defined",
     "output_type": "error",
     "traceback": [
      "\u001b[0;31m---------------------------------------------------------------------------\u001b[0m",
      "\u001b[0;31mNameError\u001b[0m                                 Traceback (most recent call last)",
      "\u001b[1;32m/home/estevanmendes/Desktop/PUC_RIO/deep_LEARNING/dados/experimentos/best_results.ipynb Cell 2\u001b[0m line \u001b[0;36m1\n\u001b[0;32m----> <a href='vscode-notebook-cell:/home/estevanmendes/Desktop/PUC_RIO/deep_LEARNING/dados/experimentos/best_results.ipynb#W0sZmlsZQ%3D%3D?line=0'>1</a>\u001b[0m model_exp_011\u001b[39m=\u001b[39mcreate_model([\u001b[39m15\u001b[39m, \u001b[39m7\u001b[39m, \u001b[39m14\u001b[39m, \u001b[39m15\u001b[39m, \u001b[39m1\u001b[39m, \u001b[39m33\u001b[39m, \u001b[39m13\u001b[39m, \u001b[39m33\u001b[39m, \u001b[39m15\u001b[39m, \u001b[39m9\u001b[39m, \u001b[39m13\u001b[39m, \u001b[39m26\u001b[39m, \u001b[39m15\u001b[39m, \u001b[39m15\u001b[39m, \u001b[39m31\u001b[39m],pool_of_features,[])\n\u001b[1;32m      <a href='vscode-notebook-cell:/home/estevanmendes/Desktop/PUC_RIO/deep_LEARNING/dados/experimentos/best_results.ipynb#W0sZmlsZQ%3D%3D?line=2'>3</a>\u001b[0m model_exp_009\u001b[39m=\u001b[39mcreate_model([\u001b[39m26\u001b[39m, \u001b[39m15\u001b[39m, \u001b[39m10\u001b[39m, \u001b[39m15\u001b[39m, \u001b[39m4\u001b[39m, \u001b[39m15\u001b[39m, \u001b[39m3\u001b[39m, \u001b[39m16\u001b[39m, \u001b[39m33\u001b[39m, \u001b[39m21\u001b[39m, \u001b[39m16\u001b[39m, \u001b[39m33\u001b[39m, \u001b[39m35\u001b[39m, \u001b[39m26\u001b[39m, \u001b[39m33\u001b[39m],pool_of_features,[])\n\u001b[1;32m      <a href='vscode-notebook-cell:/home/estevanmendes/Desktop/PUC_RIO/deep_LEARNING/dados/experimentos/best_results.ipynb#W0sZmlsZQ%3D%3D?line=3'>4</a>\u001b[0m model_exp_010\u001b[39m=\u001b[39mcreate_model([\u001b[39m33\u001b[39m, \u001b[39m33\u001b[39m, \u001b[39m33\u001b[39m, \u001b[39m12\u001b[39m, \u001b[39m14\u001b[39m, \u001b[39m15\u001b[39m, \u001b[39m33\u001b[39m, \u001b[39m35\u001b[39m, \u001b[39m35\u001b[39m, \u001b[39m21\u001b[39m, \u001b[39m14\u001b[39m, \u001b[39m33\u001b[39m, \u001b[39m3\u001b[39m, \u001b[39m29\u001b[39m, \u001b[39m36\u001b[39m])\n",
      "\u001b[0;31mNameError\u001b[0m: name 'create_model' is not defined"
     ]
    }
   ],
   "source": [
    "model_exp_011=create_model([15, 7, 14, 15, 1, 33, 13, 33, 15, 9, 13, 26, 15, 15, 31],pool_of_features,[])\n",
    "\n",
    "model_exp_009=create_model([26, 15, 10, 15, 4, 15, 3, 16, 33, 21, 16, 33, 35, 26, 33],pool_of_features,[])\n",
    "model_exp_010=create_model([33, 33, 33, 12, 14, 15, 33, 35, 35, 21, 14, 33, 3, 29, 36])"
   ]
  },
  {
   "cell_type": "code",
   "execution_count": null,
   "metadata": {},
   "outputs": [],
   "source": []
  }
 ],
 "metadata": {
  "kernelspec": {
   "display_name": "Python 3",
   "language": "python",
   "name": "python3"
  },
  "language_info": {
   "codemirror_mode": {
    "name": "ipython",
    "version": 3
   },
   "file_extension": ".py",
   "mimetype": "text/x-python",
   "name": "python",
   "nbconvert_exporter": "python",
   "pygments_lexer": "ipython3",
   "version": "3.8.10"
  }
 },
 "nbformat": 4,
 "nbformat_minor": 2
}
